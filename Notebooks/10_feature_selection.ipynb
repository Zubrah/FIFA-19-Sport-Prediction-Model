{
 "cells": [
  {
   "cell_type": "markdown",
   "metadata": {},
   "source": [
    "# Feature selection"
   ]
  },
  {
   "cell_type": "code",
   "execution_count": 1,
   "metadata": {},
   "outputs": [
    {
     "name": "stdout",
     "output_type": "stream",
     "text": [
      "Python 3.7.6\r\n"
     ]
    }
   ],
   "source": [
    "%load_ext autoreload\n",
    "%autoreload 2\n",
    "\n",
    "!python --version"
   ]
  },
  {
   "cell_type": "code",
   "execution_count": 2,
   "metadata": {},
   "outputs": [],
   "source": [
    "import sys\n",
    "sys.path.append('..')"
   ]
  },
  {
   "cell_type": "code",
   "execution_count": 13,
   "metadata": {},
   "outputs": [],
   "source": [
    "import seaborn as sns\n",
    "\n",
    "import matplotlib.pyplot as plt\n",
    "\n",
    "sns.set(style=\"whitegrid\")\n",
    "\n",
    "%config InlineBackend.figure_format='retina'\n",
    "\n",
    "plt.rcParams['figure.figsize'] = (10, 6)\n",
    "plt.rcParams.update({'font.size': 15})"
   ]
  },
  {
   "cell_type": "markdown",
   "metadata": {},
   "source": [
    "## Classification"
   ]
  },
  {
   "cell_type": "code",
   "execution_count": 14,
   "metadata": {},
   "outputs": [],
   "source": [
    "from sklearn.ensemble import RandomForestClassifier\n",
    "\n",
    "from src.dataset import DatasetForClassification\n",
    "\n",
    "from src.evaluation import custom_classification_report\n",
    "\n",
    "from sklearn.metrics import f1_score"
   ]
  },
  {
   "cell_type": "code",
   "execution_count": 15,
   "metadata": {},
   "outputs": [],
   "source": [
    "def get_removed_columns(sel):\n",
    "    removed_columns = []\n",
    "    \n",
    "    for include, column in zip(sel.get_support(), X_train.columns):\n",
    "        if not include:\n",
    "            removed_columns.append(column)\n",
    "    return removed_columns"
   ]
  },
  {
   "cell_type": "code",
   "execution_count": 16,
   "metadata": {},
   "outputs": [],
   "source": [
    "def evaluate(removed_columns, X_train, X_test, y_train, y_test, **kwargs):\n",
    "    full_report = kwargs.get('full_report', True)\n",
    "    \n",
    "    if removed_columns is None:\n",
    "        X_train_new = X_train.copy()\n",
    "        X_test_new = X_test.copy()\n",
    "    else:\n",
    "        X_train_new = X_train.drop(columns=removed_columns)\n",
    "        X_test_new = X_test.drop(columns=removed_columns)\n",
    "    \n",
    "    if full_report:\n",
    "        print(f'Old train shape - {X_train.shape}')\n",
    "        print(f'New train shape - {X_train_new.shape}')\n",
    "        \n",
    "    print(f'Removed features - {len(X_train.columns) - len(X_train_new.columns)}')\n",
    "    \n",
    "    if full_report and removed_columns is not None:\n",
    "        print(removed_columns)\n",
    "        print([x for x in X_train.columns if x not in removed_columns])\n",
    "    \n",
    "    clf = RandomForestClassifier(random_state=42)\n",
    "    clf = clf.fit(X_train_new, y_train)\n",
    "\n",
    "    y_pred = clf.predict(X_test_new)\n",
    "\n",
    "    print('\\nResults:')\n",
    "\n",
    "    for average in ['micro', 'macro']:\n",
    "        print(f'{average}: {f1_score(y_test, y_pred, average=average)}')"
   ]
  },
  {
   "cell_type": "markdown",
   "metadata": {},
   "source": [
    "### Load the dataset"
   ]
  },
  {
   "cell_type": "code",
   "execution_count": 17,
   "metadata": {},
   "outputs": [],
   "source": [
    "dataset = DatasetForClassification('../data/fifa_processed_for_cls.csv', ['Position (4)', 'Position (13)'])"
   ]
  },
  {
   "cell_type": "markdown",
   "metadata": {},
   "source": [
    "### Classification of (Position 4)"
   ]
  },
  {
   "cell_type": "code",
   "execution_count": 18,
   "metadata": {},
   "outputs": [],
   "source": [
    "X_train, X_test, y_train, y_test = dataset.get_data('Position (4)')\n",
    "\n",
    "labels = dataset.get_labels('Position (4)')"
   ]
  },
  {
   "cell_type": "markdown",
   "metadata": {},
   "source": [
    "#### Baseline model"
   ]
  },
  {
   "cell_type": "code",
   "execution_count": 9,
   "metadata": {},
   "outputs": [
    {
     "name": "stdout",
     "output_type": "stream",
     "text": [
      "Old train shape - (14517, 52)\n",
      "New train shape - (14517, 52)\n",
      "Removed features - 0\n",
      "\n",
      "Results:\n",
      "micro: 0.8931129476584022\n",
      "macro: 0.903961614778307\n"
     ]
    }
   ],
   "source": [
    "evaluate(None, X_train, X_test, y_train, y_test);"
   ]
  },
  {
   "cell_type": "markdown",
   "metadata": {},
   "source": [
    "#### VarianceThreshold"
   ]
  },
  {
   "cell_type": "markdown",
   "metadata": {},
   "source": [
    "Remove all low-variance features.\n",
    "\n",
    "https://scikit-learn.org/stable/modules/generated/sklearn.feature_selection.VarianceThreshold.html"
   ]
  },
  {
   "cell_type": "code",
   "execution_count": 10,
   "metadata": {},
   "outputs": [
    {
     "name": "stdout",
     "output_type": "stream",
     "text": [
      "Old train shape - (14517, 52)\n",
      "New train shape - (14517, 46)\n",
      "Removed features - 6\n",
      "['Preferred Foot_nan', 'Work Rate Attack_Low', 'Work Rate Attack_nan', 'Work Rate Defense_High', 'Work Rate Defense_Low', 'Work Rate Defense_nan']\n",
      "['Preferred Foot_Left', 'Preferred Foot_Right', 'Work Rate Attack_High', 'Work Rate Attack_Medium', 'Work Rate Defense_Medium', 'Crossing', 'Finishing', 'HeadingAccuracy', 'ShortPassing', 'Volleys', 'Dribbling', 'Curve', 'FKAccuracy', 'LongPassing', 'BallControl', 'Acceleration', 'SprintSpeed', 'Agility', 'Reactions', 'Balance', 'ShotPower', 'Jumping', 'Stamina', 'Strength', 'LongShots', 'Aggression', 'Interceptions', 'Positioning', 'Vision', 'Penalties', 'Composure', 'Marking', 'StandingTackle', 'SlidingTackle', 'GKDiving', 'GKHandling', 'GKKicking', 'GKPositioning', 'GKReflexes', 'Age', 'Overall', 'Potential', 'Weak Foot', 'Skill Moves', 'Height', 'Weight']\n",
      "\n",
      "Results:\n",
      "micro: 0.8922865013774105\n",
      "macro: 0.902590815953739\n",
      "CPU times: user 3.24 s, sys: 8.86 ms, total: 3.24 s\n",
      "Wall time: 3.24 s\n"
     ]
    }
   ],
   "source": [
    "%%time\n",
    "\n",
    "from sklearn.feature_selection import VarianceThreshold\n",
    "\n",
    "sel = VarianceThreshold(threshold=(.8 * (1 - .8)))\n",
    "sel.fit(X_train)\n",
    "\n",
    "removed_columns = get_removed_columns(sel)        \n",
    "\n",
    "evaluate(removed_columns, X_train, X_test, y_train, y_test);"
   ]
  },
  {
   "cell_type": "markdown",
   "metadata": {},
   "source": [
    "####  Univariate feature selection"
   ]
  },
  {
   "cell_type": "markdown",
   "metadata": {},
   "source": [
    "Univariate feature selection works by selecting the best features based on univariate statistical tests. It can be seen as a preprocessing step to an estimator. Scikit-learn exposes feature selection routines as objects that implement the transform method:\n",
    "\n",
    "https://scikit-learn.org/stable/modules/feature_selection.html"
   ]
  },
  {
   "cell_type": "code",
   "execution_count": 10,
   "metadata": {
    "scrolled": false
   },
   "outputs": [
    {
     "name": "stdout",
     "output_type": "stream",
     "text": [
      "\n",
      "---\n",
      "\n",
      "Mode: percentile, Param: 80\n",
      "\n",
      "Removed features - 11\n",
      "\n",
      "Results:\n",
      "micro: 0.8931129476584022\n",
      "macro: 0.9035107745460405\n",
      "\n",
      "---\n",
      "\n",
      "\n",
      "---\n",
      "\n",
      "Mode: k_best, Param: 42\n",
      "\n",
      "Removed features - 10\n",
      "\n",
      "Results:\n",
      "micro: 0.8961432506887053\n",
      "macro: 0.9059228234182279\n",
      "\n",
      "---\n",
      "\n",
      "\n",
      "---\n",
      "\n",
      "Mode: fpr, Param: 0.01\n",
      "\n",
      "Removed features - 3\n"
     ]
    },
    {
     "name": "stderr",
     "output_type": "stream",
     "text": [
      "/opt/conda/lib/python3.7/site-packages/sklearn/feature_selection/_univariate_selection.py:592: RuntimeWarning: invalid value encountered in less\n",
      "  return self.pvalues_ < self.alpha\n"
     ]
    },
    {
     "name": "stdout",
     "output_type": "stream",
     "text": [
      "\n",
      "Results:\n",
      "micro: 0.890633608815427\n",
      "macro: 0.9015325292857672\n",
      "\n",
      "---\n",
      "\n",
      "\n",
      "---\n",
      "\n",
      "Mode: fdr, Param: 0.01\n",
      "\n",
      "Removed features - 3\n"
     ]
    },
    {
     "name": "stderr",
     "output_type": "stream",
     "text": [
      "/opt/conda/lib/python3.7/site-packages/sklearn/feature_selection/_univariate_selection.py:661: RuntimeWarning: invalid value encountered in less_equal\n",
      "  np.arange(1, n_features + 1)]\n",
      "/opt/conda/lib/python3.7/site-packages/sklearn/feature_selection/_univariate_selection.py:664: RuntimeWarning: invalid value encountered in less_equal\n",
      "  return self.pvalues_ <= selected.max()\n"
     ]
    },
    {
     "name": "stdout",
     "output_type": "stream",
     "text": [
      "\n",
      "Results:\n",
      "micro: 0.890633608815427\n",
      "macro: 0.9015325292857672\n",
      "\n",
      "---\n",
      "\n",
      "\n",
      "---\n",
      "\n",
      "Mode: fwe, Param: 0.01\n",
      "\n",
      "Removed features - 3\n"
     ]
    },
    {
     "name": "stderr",
     "output_type": "stream",
     "text": [
      "/opt/conda/lib/python3.7/site-packages/sklearn/feature_selection/_univariate_selection.py:721: RuntimeWarning: invalid value encountered in less\n",
      "  return (self.pvalues_ < self.alpha / len(self.pvalues_))\n"
     ]
    },
    {
     "name": "stdout",
     "output_type": "stream",
     "text": [
      "\n",
      "Results:\n",
      "micro: 0.890633608815427\n",
      "macro: 0.9015325292857672\n",
      "\n",
      "---\n",
      "\n",
      "CPU times: user 17.2 s, sys: 602 ms, total: 17.8 s\n",
      "Wall time: 16.5 s\n"
     ]
    }
   ],
   "source": [
    "%%time\n",
    "\n",
    "from sklearn.feature_selection import GenericUnivariateSelect, chi2\n",
    "\n",
    "modes = ['percentile', 'k_best', 'fpr', 'fdr', 'fwe']\n",
    "params = [80, 42, 0.01, 0.01, 0.01]\n",
    "\n",
    "for mode, param in zip(modes, params):\n",
    "    print('\\n---\\n')\n",
    "    print(f'Mode: {mode}, Param: {param}\\n')\n",
    "\n",
    "    sel = GenericUnivariateSelect(chi2, mode, param=param)\n",
    "    sel.fit(X_train, y_train)\n",
    "\n",
    "    removed_columns = get_removed_columns(sel)\n",
    "\n",
    "    evaluate(removed_columns, X_train, X_test, y_train, y_test, full_report=False);\n",
    "    \n",
    "    print('\\n---\\n')"
   ]
  },
  {
   "cell_type": "markdown",
   "metadata": {},
   "source": [
    "#### SelectFromModel"
   ]
  },
  {
   "cell_type": "code",
   "execution_count": 19,
   "metadata": {
    "scrolled": false
   },
   "outputs": [
    {
     "name": "stdout",
     "output_type": "stream",
     "text": [
      "\n",
      "---\n",
      "Threshold: 0.5*mean\n",
      "Old train shape - (14517, 52)\n",
      "New train shape - (14517, 32)\n",
      "Removed features - 20\n",
      "['Preferred Foot_Left', 'Preferred Foot_Right', 'Preferred Foot_nan', 'Work Rate Attack_High', 'Work Rate Attack_Low', 'Work Rate Attack_Medium', 'Work Rate Attack_nan', 'Work Rate Defense_High', 'Work Rate Defense_Low', 'Work Rate Defense_Medium', 'Work Rate Defense_nan', 'Agility', 'Reactions', 'Balance', 'Stamina', 'Composure', 'Age', 'Potential', 'Weak Foot', 'Height']\n",
      "['Crossing', 'Finishing', 'HeadingAccuracy', 'ShortPassing', 'Volleys', 'Dribbling', 'Curve', 'FKAccuracy', 'LongPassing', 'BallControl', 'Acceleration', 'SprintSpeed', 'ShotPower', 'Jumping', 'Strength', 'LongShots', 'Aggression', 'Interceptions', 'Positioning', 'Vision', 'Penalties', 'Marking', 'StandingTackle', 'SlidingTackle', 'GKDiving', 'GKHandling', 'GKKicking', 'GKPositioning', 'GKReflexes', 'Overall', 'Skill Moves', 'Weight']\n",
      "\n",
      "Results:\n",
      "micro: 0.890633608815427\n",
      "macro: 0.9024651751688806\n",
      "\n",
      "---\n",
      "\n",
      "\n",
      "---\n",
      "Threshold: 0.75*mean\n",
      "Old train shape - (14517, 52)\n",
      "New train shape - (14517, 24)\n",
      "Removed features - 28\n",
      "['Preferred Foot_Left', 'Preferred Foot_Right', 'Preferred Foot_nan', 'Work Rate Attack_High', 'Work Rate Attack_Low', 'Work Rate Attack_Medium', 'Work Rate Attack_nan', 'Work Rate Defense_High', 'Work Rate Defense_Low', 'Work Rate Defense_Medium', 'Work Rate Defense_nan', 'Dribbling', 'Curve', 'Acceleration', 'Agility', 'Reactions', 'Balance', 'ShotPower', 'Jumping', 'Stamina', 'Aggression', 'Composure', 'Age', 'Overall', 'Potential', 'Weak Foot', 'Height', 'Weight']\n",
      "['Crossing', 'Finishing', 'HeadingAccuracy', 'ShortPassing', 'Volleys', 'FKAccuracy', 'LongPassing', 'BallControl', 'SprintSpeed', 'Strength', 'LongShots', 'Interceptions', 'Positioning', 'Vision', 'Penalties', 'Marking', 'StandingTackle', 'SlidingTackle', 'GKDiving', 'GKHandling', 'GKKicking', 'GKPositioning', 'GKReflexes', 'Skill Moves']\n",
      "\n",
      "Results:\n",
      "micro: 0.8895316804407714\n",
      "macro: 0.9013768597267544\n",
      "\n",
      "---\n",
      "\n",
      "\n",
      "---\n",
      "Threshold: mean\n",
      "Old train shape - (14517, 52)\n",
      "New train shape - (14517, 19)\n",
      "Removed features - 33\n",
      "['Preferred Foot_Left', 'Preferred Foot_Right', 'Preferred Foot_nan', 'Work Rate Attack_High', 'Work Rate Attack_Low', 'Work Rate Attack_Medium', 'Work Rate Attack_nan', 'Work Rate Defense_High', 'Work Rate Defense_Low', 'Work Rate Defense_Medium', 'Work Rate Defense_nan', 'Dribbling', 'Curve', 'BallControl', 'Acceleration', 'SprintSpeed', 'Agility', 'Reactions', 'Balance', 'ShotPower', 'Jumping', 'Stamina', 'Strength', 'Aggression', 'Penalties', 'Composure', 'Age', 'Overall', 'Potential', 'Weak Foot', 'Skill Moves', 'Height', 'Weight']\n",
      "['Crossing', 'Finishing', 'HeadingAccuracy', 'ShortPassing', 'Volleys', 'FKAccuracy', 'LongPassing', 'LongShots', 'Interceptions', 'Positioning', 'Vision', 'Marking', 'StandingTackle', 'SlidingTackle', 'GKDiving', 'GKHandling', 'GKKicking', 'GKPositioning', 'GKReflexes']\n",
      "\n",
      "Results:\n",
      "micro: 0.8831955922865014\n",
      "macro: 0.8966360933014359\n",
      "\n",
      "---\n",
      "\n",
      "\n",
      "---\n",
      "Threshold: 1.5*mean\n",
      "Old train shape - (14517, 52)\n",
      "New train shape - (14517, 13)\n",
      "Removed features - 39\n",
      "['Preferred Foot_Left', 'Preferred Foot_Right', 'Preferred Foot_nan', 'Work Rate Attack_High', 'Work Rate Attack_Low', 'Work Rate Attack_Medium', 'Work Rate Attack_nan', 'Work Rate Defense_High', 'Work Rate Defense_Low', 'Work Rate Defense_Medium', 'Work Rate Defense_nan', 'ShortPassing', 'Dribbling', 'Curve', 'FKAccuracy', 'BallControl', 'Acceleration', 'SprintSpeed', 'Agility', 'Reactions', 'Balance', 'ShotPower', 'Jumping', 'Stamina', 'Strength', 'Aggression', 'Positioning', 'Penalties', 'Composure', 'GKHandling', 'GKKicking', 'GKPositioning', 'Age', 'Overall', 'Potential', 'Weak Foot', 'Skill Moves', 'Height', 'Weight']\n",
      "['Crossing', 'Finishing', 'HeadingAccuracy', 'Volleys', 'LongPassing', 'LongShots', 'Interceptions', 'Vision', 'Marking', 'StandingTackle', 'SlidingTackle', 'GKDiving', 'GKReflexes']\n",
      "\n",
      "Results:\n",
      "micro: 0.8840220385674931\n",
      "macro: 0.8978249507092619\n",
      "\n",
      "---\n",
      "\n",
      "\n",
      "---\n",
      "Threshold: 1.25*mean\n",
      "Old train shape - (14517, 52)\n",
      "New train shape - (14517, 17)\n",
      "Removed features - 35\n",
      "['Preferred Foot_Left', 'Preferred Foot_Right', 'Preferred Foot_nan', 'Work Rate Attack_High', 'Work Rate Attack_Low', 'Work Rate Attack_Medium', 'Work Rate Attack_nan', 'Work Rate Defense_High', 'Work Rate Defense_Low', 'Work Rate Defense_Medium', 'Work Rate Defense_nan', 'Dribbling', 'Curve', 'FKAccuracy', 'BallControl', 'Acceleration', 'SprintSpeed', 'Agility', 'Reactions', 'Balance', 'ShotPower', 'Jumping', 'Stamina', 'Strength', 'Aggression', 'Penalties', 'Composure', 'GKPositioning', 'Age', 'Overall', 'Potential', 'Weak Foot', 'Skill Moves', 'Height', 'Weight']\n",
      "['Crossing', 'Finishing', 'HeadingAccuracy', 'ShortPassing', 'Volleys', 'LongPassing', 'LongShots', 'Interceptions', 'Positioning', 'Vision', 'Marking', 'StandingTackle', 'SlidingTackle', 'GKDiving', 'GKHandling', 'GKKicking', 'GKReflexes']\n",
      "\n",
      "Results:\n",
      "micro: 0.8829201101928374\n",
      "macro: 0.8959092151249824\n",
      "\n",
      "---\n",
      "\n",
      "\n",
      "---\n",
      "Threshold: 1.75*mean\n",
      "Old train shape - (14517, 52)\n",
      "New train shape - (14517, 10)\n",
      "Removed features - 42\n",
      "['Preferred Foot_Left', 'Preferred Foot_Right', 'Preferred Foot_nan', 'Work Rate Attack_High', 'Work Rate Attack_Low', 'Work Rate Attack_Medium', 'Work Rate Attack_nan', 'Work Rate Defense_High', 'Work Rate Defense_Low', 'Work Rate Defense_Medium', 'Work Rate Defense_nan', 'ShortPassing', 'Dribbling', 'Curve', 'FKAccuracy', 'BallControl', 'Acceleration', 'SprintSpeed', 'Agility', 'Reactions', 'Balance', 'ShotPower', 'Jumping', 'Stamina', 'Strength', 'LongShots', 'Aggression', 'Positioning', 'Penalties', 'Composure', 'GKDiving', 'GKHandling', 'GKKicking', 'GKPositioning', 'GKReflexes', 'Age', 'Overall', 'Potential', 'Weak Foot', 'Skill Moves', 'Height', 'Weight']\n",
      "['Crossing', 'Finishing', 'HeadingAccuracy', 'Volleys', 'LongPassing', 'Interceptions', 'Vision', 'Marking', 'StandingTackle', 'SlidingTackle']\n",
      "\n",
      "Results:\n",
      "micro: 0.8793388429752066\n",
      "macro: 0.8937519676588911\n",
      "\n",
      "---\n",
      "\n",
      "\n",
      "---\n",
      "Threshold: 2*mean\n",
      "Old train shape - (14517, 52)\n",
      "New train shape - (14517, 7)\n",
      "Removed features - 45\n",
      "['Preferred Foot_Left', 'Preferred Foot_Right', 'Preferred Foot_nan', 'Work Rate Attack_High', 'Work Rate Attack_Low', 'Work Rate Attack_Medium', 'Work Rate Attack_nan', 'Work Rate Defense_High', 'Work Rate Defense_Low', 'Work Rate Defense_Medium', 'Work Rate Defense_nan', 'Crossing', 'ShortPassing', 'Volleys', 'Dribbling', 'Curve', 'FKAccuracy', 'BallControl', 'Acceleration', 'SprintSpeed', 'Agility', 'Reactions', 'Balance', 'ShotPower', 'Jumping', 'Stamina', 'Strength', 'LongShots', 'Aggression', 'Positioning', 'Penalties', 'Composure', 'Marking', 'GKDiving', 'GKHandling', 'GKKicking', 'GKPositioning', 'GKReflexes', 'Age', 'Overall', 'Potential', 'Weak Foot', 'Skill Moves', 'Height', 'Weight']\n",
      "['Finishing', 'HeadingAccuracy', 'LongPassing', 'Interceptions', 'Vision', 'StandingTackle', 'SlidingTackle']\n",
      "\n",
      "Results:\n",
      "micro: 0.8548209366391185\n",
      "macro: 0.8750896890093544\n",
      "\n",
      "---\n",
      "\n"
     ]
    }
   ],
   "source": [
    "from sklearn.feature_selection import SelectFromModel\n",
    "\n",
    "thresholds = ['0.5*mean', '0.75*mean', 'mean', '1.25*mean', '1.5*mean', '1.75*mean', '2*mean']            \n",
    "\n",
    "for threshold in thresholds:\n",
    "    print('\\n---')\n",
    "    print(f'Threshold: {threshold}')\n",
    "\n",
    "    sel = SelectFromModel(estimator=RandomForestClassifier(random_state=42), threshold=threshold).fit(X_train, y_train)\n",
    "\n",
    "    removed_columns = get_removed_columns(sel)\n",
    "\n",
    "    evaluate(removed_columns, X_train, X_test, y_train, y_test);\n",
    "    \n",
    "    print('\\n---\\n')"
   ]
  },
  {
   "cell_type": "markdown",
   "metadata": {},
   "source": [
    "#### Recursive feature elimination with cross-validation"
   ]
  },
  {
   "cell_type": "code",
   "execution_count": 13,
   "metadata": {},
   "outputs": [
    {
     "name": "stdout",
     "output_type": "stream",
     "text": [
      "Optimal number of features : 52\n"
     ]
    },
    {
     "data": {
      "image/png": "[encoded data removed]",
      "text/plain": [
       "<Figure size 288x288 with 1 Axes>"
      ]
     },
     "metadata": {
      "image/png": {
       "height": 324,
       "width": 287
      }
     },
     "output_type": "display_data"
    },
    {
     "name": "stdout",
     "output_type": "stream",
     "text": [
      "CPU times: user 4min 27s, sys: 4.4 s, total: 4min 31s\n",
      "Wall time: 4min 32s\n"
     ]
    }
   ],
   "source": [
    "%%time\n",
    "\n",
    "import matplotlib.pyplot as plt\n",
    "\n",
    "from sklearn.model_selection import StratifiedKFold\n",
    "from sklearn.feature_selection import RFECV\n",
    "\n",
    "cls = RandomForestClassifier(random_state=42)\n",
    "\n",
    "rfecv = RFECV(estimator=cls, step=1, cv=StratifiedKFold(2), scoring='f1_macro')\n",
    "rfecv.fit(X_train, y_train)\n",
    "\n",
    "print(\"Optimal number of features : %d\" % rfecv.n_features_)\n",
    "\n",
    "# Plot number of features VS. cross-validation scores\n",
    "plt.figure(figsize=(4, 4))\n",
    "plt.xlabel(\"Number of features selected\")\n",
    "plt.ylabel(\"Cross validation score (nb of correct classifications)\")\n",
    "plt.plot(range(1, len(rfecv.grid_scores_) + 1), rfecv.grid_scores_)\n",
    "plt.show()"
   ]
  },
  {
   "cell_type": "code",
   "execution_count": 14,
   "metadata": {},
   "outputs": [
    {
     "name": "stdout",
     "output_type": "stream",
     "text": [
      "Old train shape - (14517, 52)\n",
      "New train shape - (14517, 52)\n",
      "Removed features - 0\n",
      "[]\n",
      "['Preferred Foot_Left', 'Preferred Foot_Right', 'Preferred Foot_nan', 'Work Rate Attack_High', 'Work Rate Attack_Low', 'Work Rate Attack_Medium', 'Work Rate Attack_nan', 'Work Rate Defense_High', 'Work Rate Defense_Low', 'Work Rate Defense_Medium', 'Work Rate Defense_nan', 'Crossing', 'Finishing', 'HeadingAccuracy', 'ShortPassing', 'Volleys', 'Dribbling', 'Curve', 'FKAccuracy', 'LongPassing', 'BallControl', 'Acceleration', 'SprintSpeed', 'Agility', 'Reactions', 'Balance', 'ShotPower', 'Jumping', 'Stamina', 'Strength', 'LongShots', 'Aggression', 'Interceptions', 'Positioning', 'Vision', 'Penalties', 'Composure', 'Marking', 'StandingTackle', 'SlidingTackle', 'GKDiving', 'GKHandling', 'GKKicking', 'GKPositioning', 'GKReflexes', 'Age', 'Overall', 'Potential', 'Weak Foot', 'Skill Moves', 'Height', 'Weight']\n",
      "\n",
      "Results:\n",
      "micro: 0.8931129476584022\n",
      "macro: 0.903961614778307\n"
     ]
    }
   ],
   "source": [
    "removed_columns = get_removed_columns(rfecv)\n",
    "\n",
    "evaluate(removed_columns, X_train, X_test, y_train, y_test);"
   ]
  },
  {
   "cell_type": "markdown",
   "metadata": {},
   "source": [
    "### Tree-based feature selection¶"
   ]
  },
  {
   "cell_type": "code",
   "execution_count": 15,
   "metadata": {},
   "outputs": [
    {
     "name": "stdout",
     "output_type": "stream",
     "text": [
      "Old train shape - (14517, 52)\n",
      "New train shape - (14517, 7)\n",
      "Removed features - 45\n",
      "['Preferred Foot_Left', 'Preferred Foot_Right', 'Preferred Foot_nan', 'Work Rate Attack_High', 'Work Rate Attack_Low', 'Work Rate Attack_Medium', 'Work Rate Attack_nan', 'Work Rate Defense_High', 'Work Rate Defense_Low', 'Work Rate Defense_Medium', 'Work Rate Defense_nan', 'Crossing', 'ShortPassing', 'Volleys', 'Dribbling', 'Curve', 'FKAccuracy', 'BallControl', 'Acceleration', 'SprintSpeed', 'Agility', 'Reactions', 'Balance', 'ShotPower', 'Jumping', 'Stamina', 'Strength', 'LongShots', 'Aggression', 'Positioning', 'Penalties', 'Composure', 'Marking', 'GKDiving', 'GKHandling', 'GKKicking', 'GKPositioning', 'GKReflexes', 'Age', 'Overall', 'Potential', 'Weak Foot', 'Skill Moves', 'Height', 'Weight']\n",
      "['Finishing', 'HeadingAccuracy', 'LongPassing', 'Interceptions', 'Vision', 'StandingTackle', 'SlidingTackle']\n",
      "\n",
      "Results:\n",
      "micro: 0.8548209366391185\n",
      "macro: 0.8750896890093544\n"
     ]
    }
   ],
   "source": [
    "from sklearn.ensemble import ExtraTreesClassifier\n",
    "from sklearn.datasets import load_iris\n",
    "from sklearn.feature_selection import SelectFromModel\n",
    "\n",
    "clf = ExtraTreesClassifier(n_estimators=50)\n",
    "clf = clf.fit(X_train, y_train)\n",
    "model = SelectFromModel(clf, prefit=True)\n",
    "X_train_new = model.transform(X_train)\n",
    "\n",
    "removed_columns = get_removed_columns(sel)\n",
    "\n",
    "evaluate(removed_columns, X_train, X_test, y_train, y_test);"
   ]
  },
  {
   "cell_type": "markdown",
   "metadata": {},
   "source": [
    "### Classification of (Position 13)"
   ]
  },
  {
   "cell_type": "code",
   "execution_count": 16,
   "metadata": {},
   "outputs": [],
   "source": [
    "X_train, X_test, y_train, y_test = dataset.get_data('Position (13)')\n",
    "\n",
    "labels = dataset.get_labels('Position (13)')"
   ]
  },
  {
   "cell_type": "markdown",
   "metadata": {},
   "source": [
    "#### Baseline model"
   ]
  },
  {
   "cell_type": "code",
   "execution_count": 17,
   "metadata": {},
   "outputs": [
    {
     "name": "stdout",
     "output_type": "stream",
     "text": [
      "Old train shape - (14517, 52)\n",
      "New train shape - (14517, 52)\n",
      "Removed features - 0\n",
      "\n",
      "Results:\n",
      "micro: 0.6873278236914601\n",
      "macro: 0.5041835824887555\n"
     ]
    }
   ],
   "source": [
    "evaluate(None, X_train, X_test, y_train, y_test);"
   ]
  },
  {
   "cell_type": "markdown",
   "metadata": {},
   "source": [
    "#### Recursive feature elimination with cross-validation"
   ]
  },
  {
   "cell_type": "code",
   "execution_count": 18,
   "metadata": {},
   "outputs": [
    {
     "name": "stdout",
     "output_type": "stream",
     "text": [
      "Optimal number of features : 46\n"
     ]
    },
    {
     "data": {
      "image/png": "[encoded data removed]",
      "text/plain": [
       "<Figure size 288x288 with 1 Axes>"
      ]
     },
     "metadata": {
      "image/png": {
       "height": 324,
       "width": 287
      }
     },
     "output_type": "display_data"
    },
    {
     "name": "stdout",
     "output_type": "stream",
     "text": [
      "CPU times: user 5min 2s, sys: 2.88 s, total: 5min 5s\n",
      "Wall time: 5min 5s\n"
     ]
    }
   ],
   "source": [
    "%%time\n",
    "\n",
    "import matplotlib.pyplot as plt\n",
    "\n",
    "from sklearn.model_selection import StratifiedKFold\n",
    "from sklearn.feature_selection import RFECV\n",
    "\n",
    "cls = RandomForestClassifier(random_state=42)\n",
    "\n",
    "rfecv = RFECV(estimator=cls, step=1, cv=StratifiedKFold(2), scoring='f1_macro')\n",
    "rfecv.fit(X_train, y_train)\n",
    "\n",
    "print(\"Optimal number of features : %d\" % rfecv.n_features_)\n",
    "\n",
    "# Plot number of features VS. cross-validation scores\n",
    "plt.figure(figsize=(4, 4))\n",
    "plt.xlabel(\"Number of features selected\")\n",
    "plt.ylabel(\"Cross validation score (nb of correct classifications)\")\n",
    "plt.plot(range(1, len(rfecv.grid_scores_) + 1), rfecv.grid_scores_)\n",
    "plt.show()"
   ]
  },
  {
   "cell_type": "code",
   "execution_count": 19,
   "metadata": {},
   "outputs": [
    {
     "name": "stdout",
     "output_type": "stream",
     "text": [
      "Old train shape - (14517, 52)\n",
      "New train shape - (14517, 46)\n",
      "Removed features - 6\n",
      "['Preferred Foot_nan', 'Work Rate Attack_Low', 'Work Rate Attack_nan', 'Work Rate Defense_High', 'Work Rate Defense_Low', 'Work Rate Defense_nan']\n",
      "['Preferred Foot_Left', 'Preferred Foot_Right', 'Work Rate Attack_High', 'Work Rate Attack_Medium', 'Work Rate Defense_Medium', 'Crossing', 'Finishing', 'HeadingAccuracy', 'ShortPassing', 'Volleys', 'Dribbling', 'Curve', 'FKAccuracy', 'LongPassing', 'BallControl', 'Acceleration', 'SprintSpeed', 'Agility', 'Reactions', 'Balance', 'ShotPower', 'Jumping', 'Stamina', 'Strength', 'LongShots', 'Aggression', 'Interceptions', 'Positioning', 'Vision', 'Penalties', 'Composure', 'Marking', 'StandingTackle', 'SlidingTackle', 'GKDiving', 'GKHandling', 'GKKicking', 'GKPositioning', 'GKReflexes', 'Age', 'Overall', 'Potential', 'Weak Foot', 'Skill Moves', 'Height', 'Weight']\n",
      "\n",
      "Results:\n",
      "micro: 0.6881542699724518\n",
      "macro: 0.5044827491873773\n"
     ]
    }
   ],
   "source": [
    "removed_columns = get_removed_columns(rfecv)\n",
    "\n",
    "evaluate(removed_columns, X_train, X_test, y_train, y_test);"
   ]
  },
  {
   "cell_type": "markdown",
   "metadata": {},
   "source": [
    "### Conclusion"
   ]
  },
  {
   "cell_type": "markdown",
   "metadata": {},
   "source": [
    "We tried several methods of reducing the model features.\n",
    "\n",
    "However, the model performed best when the all features was used (f1 macro 0.903).\n",
    "\n",
    "Also, when some features were removed ~10 to ~20 the f1 macro raged from 0.890 to 0.905.\n",
    "\n",
    "When we removed 42 features we achieved f1 macro of 0.89, this means we need only a few features (~10) to make the predictions."
   ]
  },
  {
   "cell_type": "markdown",
   "metadata": {},
   "source": [
    "## Regression"
   ]
  },
  {
   "cell_type": "code",
   "execution_count": 5,
   "metadata": {},
   "outputs": [],
   "source": [
    "from sklearn.linear_model import LinearRegression"
   ]
  },
  {
   "cell_type": "code",
   "execution_count": 6,
   "metadata": {},
   "outputs": [],
   "source": [
    "from src.dataset import DatasetForRegression\n",
    "\n",
    "from src.evaluation import custom_regression_report"
   ]
  },
  {
   "cell_type": "code",
   "execution_count": 7,
   "metadata": {},
   "outputs": [],
   "source": [
    "def evaluate_regression(removed_columns, X_train, X_test, y_train, y_test, **kwargs):\n",
    "    full_report = kwargs.get('full_report', True)\n",
    "    \n",
    "    if removed_columns is None:\n",
    "        X_train_new = X_train.copy()\n",
    "        X_test_new = X_test.copy()\n",
    "    else:\n",
    "        X_train_new = X_train.drop(columns=removed_columns)\n",
    "        X_test_new = X_test.drop(columns=removed_columns)\n",
    "    \n",
    "    if full_report:\n",
    "        print(f'Old train shape - {X_train.shape}')\n",
    "        print(f'New train shape - {X_train_new.shape}')\n",
    "        \n",
    "    print(f'Removed features - {len(X_train.columns) - len(X_train_new.columns)}')\n",
    "    \n",
    "    if full_report and removed_columns is not None:\n",
    "        print(removed_columns)\n",
    "        print([x for x in X_train.columns if x not in removed_columns])\n",
    "    \n",
    "    clf = LinearRegression()\n",
    "    clf = clf.fit(X_train_new, y_train)\n",
    "\n",
    "    custom_regression_report(clf, X_test_new, y_test, show_plot=kwargs.get('show_plot'))"
   ]
  },
  {
   "cell_type": "markdown",
   "metadata": {},
   "source": [
    "### Load the dataset"
   ]
  },
  {
   "cell_type": "code",
   "execution_count": 8,
   "metadata": {},
   "outputs": [],
   "source": [
    "dataset = DatasetForRegression('../data/fifa_processed_for_reg.csv', ['Value'])"
   ]
  },
  {
   "cell_type": "code",
   "execution_count": 9,
   "metadata": {},
   "outputs": [],
   "source": [
    "X_train, X_test, y_train, y_test = dataset.get_data('Value')"
   ]
  },
  {
   "cell_type": "markdown",
   "metadata": {},
   "source": [
    "### Regression \"Value\""
   ]
  },
  {
   "cell_type": "markdown",
   "metadata": {},
   "source": [
    "We will used the methods which looked to performed best previously."
   ]
  },
  {
   "cell_type": "markdown",
   "metadata": {},
   "source": [
    "#### Baseline model"
   ]
  },
  {
   "cell_type": "code",
   "execution_count": 25,
   "metadata": {},
   "outputs": [
    {
     "name": "stdout",
     "output_type": "stream",
     "text": [
      "Old train shape - (14325, 73)\n",
      "New train shape - (14325, 73)\n",
      "Removed features - 0\n",
      "MSE: 12675958308862.986\n",
      "RMSE: 3560331.207747811\n",
      "Explained variance - uniform_average (higher is better): 0.6285853046833247\n",
      "Explained variance - variance_weighted (higher is better): 0.6285853046833247\n",
      "\n",
      "\n"
     ]
    }
   ],
   "source": [
    "evaluate_regression(None, X_train, X_test, y_train, y_test, show_plot=False);"
   ]
  },
  {
   "cell_type": "markdown",
   "metadata": {},
   "source": [
    "#### Recursive feature elimination with cross-validation"
   ]
  },
  {
   "cell_type": "code",
   "execution_count": 26,
   "metadata": {},
   "outputs": [
    {
     "name": "stderr",
     "output_type": "stream",
     "text": [
      "/opt/conda/lib/python3.7/site-packages/sklearn/model_selection/_split.py:667: UserWarning: The least populated class in y has only 1 members, which is less than n_splits=2.\n",
      "  % (min_groups, self.n_splits)), UserWarning)\n"
     ]
    },
    {
     "name": "stdout",
     "output_type": "stream",
     "text": [
      "Optimal number of features : 71\n"
     ]
    },
    {
     "data": {
      "image/png": "[encoded data removed]",
      "text/plain": [
       "<Figure size 288x288 with 1 Axes>"
      ]
     },
     "metadata": {
      "image/png": {
       "height": 324,
       "width": 321
      }
     },
     "output_type": "display_data"
    },
    {
     "name": "stdout",
     "output_type": "stream",
     "text": [
      "CPU times: user 13.1 s, sys: 10.1 s, total: 23.2 s\n",
      "Wall time: 6.17 s\n"
     ]
    }
   ],
   "source": [
    "%%time\n",
    "\n",
    "import matplotlib.pyplot as plt\n",
    "\n",
    "from sklearn.model_selection import StratifiedKFold\n",
    "from sklearn.feature_selection import RFECV\n",
    "\n",
    "cls = LinearRegression()\n",
    "\n",
    "rfecv = RFECV(estimator=cls, step=1, cv=StratifiedKFold(2), scoring='neg_root_mean_squared_error')\n",
    "rfecv.fit(X_train, y_train)\n",
    "\n",
    "print(\"Optimal number of features : %d\" % rfecv.n_features_)\n",
    "\n",
    "# Plot number of features VS. cross-validation scores\n",
    "plt.figure(figsize=(4, 4))\n",
    "plt.xlabel(\"Number of features selected\")\n",
    "plt.ylabel(\"Cross validation score (nb of correct classifications)\")\n",
    "plt.plot(range(1, len(rfecv.grid_scores_) + 1), rfecv.grid_scores_)\n",
    "plt.show()"
   ]
  },
  {
   "cell_type": "code",
   "execution_count": 27,
   "metadata": {},
   "outputs": [
    {
     "name": "stdout",
     "output_type": "stream",
     "text": [
      "Old train shape - (14325, 73)\n",
      "New train shape - (14325, 71)\n",
      "Removed features - 2\n",
      "['Position (13)_nan', 'Work Rate Attack_nan']\n",
      "['Position (4)_attack', 'Position (4)_defense', 'Position (4)_goalkeeper', 'Position (4)_middle', 'Position (4)_nan', 'Position (13)_attacking midfielder', 'Position (13)_central attack', 'Position (13)_central defense', 'Position (13)_deffensive midfielder', 'Position (13)_goalkeeper', 'Position (13)_left attack', 'Position (13)_left defense', 'Position (13)_left midfielder', 'Position (13)_middle', 'Position (13)_midfielder', 'Position (13)_right attack', 'Position (13)_right defense', 'Position (13)_right midfielder', 'Preferred Foot_Left', 'Preferred Foot_Right', 'Preferred Foot_nan', 'Work Rate Attack_High', 'Work Rate Attack_Low', 'Work Rate Attack_Medium', 'Work Rate Defense_High', 'Work Rate Defense_Low', 'Work Rate Defense_Medium', 'Work Rate Defense_nan', 'Contract Length', 'International Reputation', 'Crossing', 'Finishing', 'HeadingAccuracy', 'ShortPassing', 'Volleys', 'Dribbling', 'Curve', 'FKAccuracy', 'LongPassing', 'BallControl', 'Acceleration', 'SprintSpeed', 'Agility', 'Reactions', 'Balance', 'ShotPower', 'Jumping', 'Stamina', 'Strength', 'LongShots', 'Aggression', 'Interceptions', 'Positioning', 'Vision', 'Penalties', 'Composure', 'Marking', 'StandingTackle', 'SlidingTackle', 'GKDiving', 'GKHandling', 'GKKicking', 'GKPositioning', 'GKReflexes', 'Age', 'Overall', 'Potential', 'Weak Foot', 'Skill Moves', 'Height', 'Weight']\n",
      "MSE: 12675503887533.861\n",
      "RMSE: 3560267.3898927676\n",
      "Explained variance - uniform_average (higher is better): 0.6285993701642467\n",
      "Explained variance - variance_weighted (higher is better): 0.6285993701642467\n",
      "\n",
      "\n"
     ]
    }
   ],
   "source": [
    "removed_columns = get_removed_columns(rfecv)\n",
    "\n",
    "evaluate_regression(removed_columns, X_train, X_test, y_train, y_test);"
   ]
  },
  {
   "cell_type": "markdown",
   "metadata": {},
   "source": [
    "#### SelectFromModel"
   ]
  },
  {
   "cell_type": "code",
   "execution_count": 12,
   "metadata": {
    "scrolled": false
   },
   "outputs": [
    {
     "name": "stdout",
     "output_type": "stream",
     "text": [
      "\n",
      "---\n",
      "Threshold: 0.5*mean\n",
      "Old train shape - (14325, 73)\n",
      "New train shape - (14325, 41)\n",
      "Removed features - 32\n",
      "['Position (4)_attack', 'Position (4)_defense', 'Position (4)_goalkeeper', 'Position (4)_middle', 'Position (4)_nan', 'Position (13)_attacking midfielder', 'Position (13)_central attack', 'Position (13)_central defense', 'Position (13)_deffensive midfielder', 'Position (13)_goalkeeper', 'Position (13)_left attack', 'Position (13)_left defense', 'Position (13)_left midfielder', 'Position (13)_middle', 'Position (13)_midfielder', 'Position (13)_right attack', 'Position (13)_right defense', 'Position (13)_right midfielder', 'Position (13)_nan', 'Preferred Foot_Left', 'Preferred Foot_Right', 'Preferred Foot_nan', 'Work Rate Attack_High', 'Work Rate Attack_Low', 'Work Rate Attack_Medium', 'Work Rate Attack_nan', 'Work Rate Defense_High', 'Work Rate Defense_Low', 'Work Rate Defense_Medium', 'Work Rate Defense_nan', 'International Reputation', 'Skill Moves']\n",
      "['Contract Length', 'Crossing', 'Finishing', 'HeadingAccuracy', 'ShortPassing', 'Volleys', 'Dribbling', 'Curve', 'FKAccuracy', 'LongPassing', 'BallControl', 'Acceleration', 'SprintSpeed', 'Agility', 'Reactions', 'Balance', 'ShotPower', 'Jumping', 'Stamina', 'Strength', 'LongShots', 'Aggression', 'Interceptions', 'Positioning', 'Vision', 'Penalties', 'Composure', 'Marking', 'StandingTackle', 'SlidingTackle', 'GKDiving', 'GKHandling', 'GKKicking', 'GKPositioning', 'GKReflexes', 'Age', 'Overall', 'Potential', 'Weak Foot', 'Height', 'Weight']\n",
      "MSE: 18323147064872.11\n",
      "RMSE: 4280554.527730269\n",
      "Explained variance - uniform_average (higher is better): 0.46302623554285927\n",
      "Explained variance - variance_weighted (higher is better): 0.46302623554285927\n",
      "\n",
      "\n",
      "\n",
      "---\n",
      "\n",
      "\n",
      "---\n",
      "Threshold: 0.75*mean\n",
      "Old train shape - (14325, 73)\n",
      "New train shape - (14325, 40)\n",
      "Removed features - 33\n",
      "['Position (4)_attack', 'Position (4)_defense', 'Position (4)_goalkeeper', 'Position (4)_middle', 'Position (4)_nan', 'Position (13)_attacking midfielder', 'Position (13)_central attack', 'Position (13)_central defense', 'Position (13)_deffensive midfielder', 'Position (13)_goalkeeper', 'Position (13)_left attack', 'Position (13)_left defense', 'Position (13)_left midfielder', 'Position (13)_middle', 'Position (13)_midfielder', 'Position (13)_right attack', 'Position (13)_right defense', 'Position (13)_right midfielder', 'Position (13)_nan', 'Preferred Foot_Left', 'Preferred Foot_Right', 'Preferred Foot_nan', 'Work Rate Attack_High', 'Work Rate Attack_Low', 'Work Rate Attack_Medium', 'Work Rate Attack_nan', 'Work Rate Defense_High', 'Work Rate Defense_Low', 'Work Rate Defense_Medium', 'Work Rate Defense_nan', 'International Reputation', 'Weak Foot', 'Skill Moves']\n",
      "['Contract Length', 'Crossing', 'Finishing', 'HeadingAccuracy', 'ShortPassing', 'Volleys', 'Dribbling', 'Curve', 'FKAccuracy', 'LongPassing', 'BallControl', 'Acceleration', 'SprintSpeed', 'Agility', 'Reactions', 'Balance', 'ShotPower', 'Jumping', 'Stamina', 'Strength', 'LongShots', 'Aggression', 'Interceptions', 'Positioning', 'Vision', 'Penalties', 'Composure', 'Marking', 'StandingTackle', 'SlidingTackle', 'GKDiving', 'GKHandling', 'GKKicking', 'GKPositioning', 'GKReflexes', 'Age', 'Overall', 'Potential', 'Height', 'Weight']\n",
      "MSE: 18314700899183.457\n",
      "RMSE: 4279567.840236144\n",
      "Explained variance - uniform_average (higher is better): 0.4632736751825032\n",
      "Explained variance - variance_weighted (higher is better): 0.4632736751825032\n",
      "\n",
      "\n",
      "\n",
      "---\n",
      "\n",
      "\n",
      "---\n",
      "Threshold: mean\n",
      "Old train shape - (14325, 73)\n",
      "New train shape - (14325, 39)\n",
      "Removed features - 34\n",
      "['Position (4)_attack', 'Position (4)_defense', 'Position (4)_goalkeeper', 'Position (4)_middle', 'Position (4)_nan', 'Position (13)_attacking midfielder', 'Position (13)_central attack', 'Position (13)_central defense', 'Position (13)_deffensive midfielder', 'Position (13)_goalkeeper', 'Position (13)_left attack', 'Position (13)_left defense', 'Position (13)_left midfielder', 'Position (13)_middle', 'Position (13)_midfielder', 'Position (13)_right attack', 'Position (13)_right defense', 'Position (13)_right midfielder', 'Position (13)_nan', 'Preferred Foot_Left', 'Preferred Foot_Right', 'Preferred Foot_nan', 'Work Rate Attack_High', 'Work Rate Attack_Low', 'Work Rate Attack_Medium', 'Work Rate Attack_nan', 'Work Rate Defense_High', 'Work Rate Defense_Low', 'Work Rate Defense_Medium', 'Work Rate Defense_nan', 'Contract Length', 'International Reputation', 'Weak Foot', 'Skill Moves']\n",
      "['Crossing', 'Finishing', 'HeadingAccuracy', 'ShortPassing', 'Volleys', 'Dribbling', 'Curve', 'FKAccuracy', 'LongPassing', 'BallControl', 'Acceleration', 'SprintSpeed', 'Agility', 'Reactions', 'Balance', 'ShotPower', 'Jumping', 'Stamina', 'Strength', 'LongShots', 'Aggression', 'Interceptions', 'Positioning', 'Vision', 'Penalties', 'Composure', 'Marking', 'StandingTackle', 'SlidingTackle', 'GKDiving', 'GKHandling', 'GKKicking', 'GKPositioning', 'GKReflexes', 'Age', 'Overall', 'Potential', 'Height', 'Weight']\n",
      "MSE: 18386750615303.203\n",
      "RMSE: 4287977.450419161\n",
      "Explained variance - uniform_average (higher is better): 0.4611634620444375\n",
      "Explained variance - variance_weighted (higher is better): 0.4611634620444375\n",
      "\n",
      "\n",
      "\n",
      "---\n",
      "\n",
      "\n",
      "---\n",
      "Threshold: 1.25*mean\n",
      "Old train shape - (14325, 73)\n",
      "New train shape - (14325, 38)\n",
      "Removed features - 35\n",
      "['Position (4)_attack', 'Position (4)_defense', 'Position (4)_goalkeeper', 'Position (4)_middle', 'Position (4)_nan', 'Position (13)_attacking midfielder', 'Position (13)_central attack', 'Position (13)_central defense', 'Position (13)_deffensive midfielder', 'Position (13)_goalkeeper', 'Position (13)_left attack', 'Position (13)_left defense', 'Position (13)_left midfielder', 'Position (13)_middle', 'Position (13)_midfielder', 'Position (13)_right attack', 'Position (13)_right defense', 'Position (13)_right midfielder', 'Position (13)_nan', 'Preferred Foot_Left', 'Preferred Foot_Right', 'Preferred Foot_nan', 'Work Rate Attack_High', 'Work Rate Attack_Low', 'Work Rate Attack_Medium', 'Work Rate Attack_nan', 'Work Rate Defense_High', 'Work Rate Defense_Low', 'Work Rate Defense_Medium', 'Work Rate Defense_nan', 'Contract Length', 'International Reputation', 'Weak Foot', 'Skill Moves', 'Height']\n",
      "['Crossing', 'Finishing', 'HeadingAccuracy', 'ShortPassing', 'Volleys', 'Dribbling', 'Curve', 'FKAccuracy', 'LongPassing', 'BallControl', 'Acceleration', 'SprintSpeed', 'Agility', 'Reactions', 'Balance', 'ShotPower', 'Jumping', 'Stamina', 'Strength', 'LongShots', 'Aggression', 'Interceptions', 'Positioning', 'Vision', 'Penalties', 'Composure', 'Marking', 'StandingTackle', 'SlidingTackle', 'GKDiving', 'GKHandling', 'GKKicking', 'GKPositioning', 'GKReflexes', 'Age', 'Overall', 'Potential', 'Weight']\n",
      "MSE: 18390673867189.64\n",
      "RMSE: 4288434.897161159\n",
      "Explained variance - uniform_average (higher is better): 0.46104859341298843\n",
      "Explained variance - variance_weighted (higher is better): 0.46104859341298843\n",
      "\n",
      "\n",
      "\n",
      "---\n",
      "\n",
      "\n",
      "---\n",
      "Threshold: 1.5*mean\n",
      "Old train shape - (14325, 73)\n",
      "New train shape - (14325, 33)\n",
      "Removed features - 40\n",
      "['Position (4)_attack', 'Position (4)_defense', 'Position (4)_goalkeeper', 'Position (4)_middle', 'Position (4)_nan', 'Position (13)_attacking midfielder', 'Position (13)_central attack', 'Position (13)_central defense', 'Position (13)_deffensive midfielder', 'Position (13)_goalkeeper', 'Position (13)_left attack', 'Position (13)_left defense', 'Position (13)_left midfielder', 'Position (13)_middle', 'Position (13)_midfielder', 'Position (13)_right attack', 'Position (13)_right defense', 'Position (13)_right midfielder', 'Position (13)_nan', 'Preferred Foot_Left', 'Preferred Foot_Right', 'Preferred Foot_nan', 'Work Rate Attack_High', 'Work Rate Attack_Low', 'Work Rate Attack_Medium', 'Work Rate Attack_nan', 'Work Rate Defense_High', 'Work Rate Defense_Low', 'Work Rate Defense_Medium', 'Work Rate Defense_nan', 'Contract Length', 'International Reputation', 'GKDiving', 'GKHandling', 'GKKicking', 'GKPositioning', 'GKReflexes', 'Weak Foot', 'Skill Moves', 'Height']\n",
      "['Crossing', 'Finishing', 'HeadingAccuracy', 'ShortPassing', 'Volleys', 'Dribbling', 'Curve', 'FKAccuracy', 'LongPassing', 'BallControl', 'Acceleration', 'SprintSpeed', 'Agility', 'Reactions', 'Balance', 'ShotPower', 'Jumping', 'Stamina', 'Strength', 'LongShots', 'Aggression', 'Interceptions', 'Positioning', 'Vision', 'Penalties', 'Composure', 'Marking', 'StandingTackle', 'SlidingTackle', 'Age', 'Overall', 'Potential', 'Weight']\n",
      "MSE: 18443310106341.812\n",
      "RMSE: 4294567.5109773055\n",
      "Explained variance - uniform_average (higher is better): 0.4595061402255026\n",
      "Explained variance - variance_weighted (higher is better): 0.4595061402255026\n",
      "\n",
      "\n",
      "\n",
      "---\n",
      "\n",
      "\n",
      "---\n",
      "Threshold: 1.75*mean\n"
     ]
    },
    {
     "name": "stdout",
     "output_type": "stream",
     "text": [
      "Old train shape - (14325, 73)\n",
      "New train shape - (14325, 3)\n",
      "Removed features - 70\n",
      "['Position (4)_attack', 'Position (4)_defense', 'Position (4)_goalkeeper', 'Position (4)_middle', 'Position (4)_nan', 'Position (13)_attacking midfielder', 'Position (13)_central attack', 'Position (13)_central defense', 'Position (13)_deffensive midfielder', 'Position (13)_goalkeeper', 'Position (13)_left attack', 'Position (13)_left defense', 'Position (13)_left midfielder', 'Position (13)_middle', 'Position (13)_midfielder', 'Position (13)_right attack', 'Position (13)_right defense', 'Position (13)_right midfielder', 'Position (13)_nan', 'Preferred Foot_Left', 'Preferred Foot_Right', 'Preferred Foot_nan', 'Work Rate Attack_High', 'Work Rate Attack_Low', 'Work Rate Attack_Medium', 'Work Rate Attack_nan', 'Work Rate Defense_High', 'Work Rate Defense_Low', 'Work Rate Defense_Medium', 'Work Rate Defense_nan', 'Contract Length', 'International Reputation', 'Crossing', 'Finishing', 'HeadingAccuracy', 'ShortPassing', 'Volleys', 'Dribbling', 'Curve', 'FKAccuracy', 'LongPassing', 'BallControl', 'Acceleration', 'SprintSpeed', 'Agility', 'Reactions', 'Balance', 'ShotPower', 'Jumping', 'Stamina', 'Strength', 'LongShots', 'Aggression', 'Interceptions', 'Positioning', 'Vision', 'Penalties', 'Composure', 'Marking', 'StandingTackle', 'SlidingTackle', 'GKDiving', 'GKHandling', 'GKKicking', 'GKPositioning', 'GKReflexes', 'Weak Foot', 'Skill Moves', 'Height', 'Weight']\n",
      "['Age', 'Overall', 'Potential']\n",
      "MSE: 18770337383028.254\n",
      "RMSE: 4332474.741187564\n",
      "Explained variance - uniform_average (higher is better): 0.4499506683072634\n",
      "Explained variance - variance_weighted (higher is better): 0.4499506683072634\n",
      "\n",
      "\n",
      "\n",
      "---\n",
      "\n",
      "\n",
      "---\n",
      "Threshold: 2*mean\n",
      "Old train shape - (14325, 73)\n",
      "New train shape - (14325, 3)\n",
      "Removed features - 70\n",
      "['Position (4)_attack', 'Position (4)_defense', 'Position (4)_goalkeeper', 'Position (4)_middle', 'Position (4)_nan', 'Position (13)_attacking midfielder', 'Position (13)_central attack', 'Position (13)_central defense', 'Position (13)_deffensive midfielder', 'Position (13)_goalkeeper', 'Position (13)_left attack', 'Position (13)_left defense', 'Position (13)_left midfielder', 'Position (13)_middle', 'Position (13)_midfielder', 'Position (13)_right attack', 'Position (13)_right defense', 'Position (13)_right midfielder', 'Position (13)_nan', 'Preferred Foot_Left', 'Preferred Foot_Right', 'Preferred Foot_nan', 'Work Rate Attack_High', 'Work Rate Attack_Low', 'Work Rate Attack_Medium', 'Work Rate Attack_nan', 'Work Rate Defense_High', 'Work Rate Defense_Low', 'Work Rate Defense_Medium', 'Work Rate Defense_nan', 'Contract Length', 'International Reputation', 'Crossing', 'Finishing', 'HeadingAccuracy', 'ShortPassing', 'Volleys', 'Dribbling', 'Curve', 'FKAccuracy', 'LongPassing', 'BallControl', 'Acceleration', 'SprintSpeed', 'Agility', 'Reactions', 'Balance', 'ShotPower', 'Jumping', 'Stamina', 'Strength', 'LongShots', 'Aggression', 'Interceptions', 'Positioning', 'Vision', 'Penalties', 'Composure', 'Marking', 'StandingTackle', 'SlidingTackle', 'GKDiving', 'GKHandling', 'GKKicking', 'GKPositioning', 'GKReflexes', 'Weak Foot', 'Skill Moves', 'Height', 'Weight']\n",
      "['Age', 'Overall', 'Potential']\n",
      "MSE: 18770337383028.254\n",
      "RMSE: 4332474.741187564\n",
      "Explained variance - uniform_average (higher is better): 0.4499506683072634\n",
      "Explained variance - variance_weighted (higher is better): 0.4499506683072634\n",
      "\n",
      "\n",
      "\n",
      "---\n",
      "\n",
      "CPU times: user 2min 2s, sys: 11.4 s, total: 2min 13s\n",
      "Wall time: 2min 11s\n"
     ]
    }
   ],
   "source": [
    "%%time\n",
    "\n",
    "from sklearn.feature_selection import SelectFromModel\n",
    "\n",
    "thresholds = ['0.5*mean', '0.75*mean', 'mean', '1.25*mean', '1.5*mean', '1.75*mean', '2*mean']            \n",
    "\n",
    "for threshold in thresholds:\n",
    "    print('\\n---')\n",
    "    print(f'Threshold: {threshold}')\n",
    "\n",
    "    sel = SelectFromModel(estimator=RandomForestClassifier(random_state=42), threshold=threshold).fit(X_train, y_train)\n",
    "\n",
    "    removed_columns = get_removed_columns(sel)\n",
    "\n",
    "    evaluate_regression(removed_columns, X_train, X_test, y_train, y_test);\n",
    "    \n",
    "    print('\\n---\\n')"
   ]
  },
  {
   "cell_type": "markdown",
   "metadata": {},
   "source": [
    "### Conclusion"
   ]
  },
  {
   "cell_type": "markdown",
   "metadata": {},
   "source": [
    "The pattern is roughly the same again, the more features we have, the better model we train."
   ]
  }
 ],
 "metadata": {
  "kernelspec": {
   "display_name": "Python 3",
   "language": "python",
   "name": "python3"
  },
  "language_info": {
   "codemirror_mode": {
    "name": "ipython",
    "version": 3
   },
   "file_extension": ".py",
   "mimetype": "text/x-python",
   "name": "python",
   "nbconvert_exporter": "python",
   "pygments_lexer": "ipython3",
   "version": "3.7.6"
  }
 },
 "nbformat": 4,
 "nbformat_minor": 4
}
